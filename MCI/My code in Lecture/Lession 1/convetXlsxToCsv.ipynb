{
    "metadata": {
        "kernelspec": {
            "name": "SQL",
            "display_name": "SQL",
            "language": "sql"
        },
        "language_info": {
            "name": "sql",
            "version": ""
        },
        "orig_nbformat": 4,
        "vscode": {
            "interpreter": {
                "hash": "339e7526c683223b50a7e533443a0ff52c595a5ccaeeb10ef66d040c29a7b3e6"
            }
        }
    },
    "nbformat_minor": 2,
    "nbformat": 4,
    "cells": [
        {
            "cell_type": "code",
            "source": [
                "import pandas as pd"
            ],
            "metadata": {
                "azdata_cell_guid": "f1498f21-1ebb-4bd1-a4e7-c8f0d6a4df20",
                "language": "sql"
            },
            "outputs": [],
            "execution_count": 2
        },
        {
            "cell_type": "code",
            "source": [
                "df = pd.read_excel('Orders.xlsx', sheet_name='Result1', header=None)\n"
            ],
            "metadata": {
                "azdata_cell_guid": "7ad5d74a-ce9c-4485-8e99-92513b960739",
                "language": "sql"
            },
            "outputs": [],
            "execution_count": 23
        },
        {
            "cell_type": "code",
            "source": [
                "df.to_csv('Orders.csv', index=False)"
            ],
            "metadata": {
                "azdata_cell_guid": "70905d0b-fa31-4a11-9c86-1027812436bf",
                "language": "sql"
            },
            "outputs": [
                {
                    "output_type": "error",
                    "ename": "NameError",
                    "evalue": "name 'df' is not defined",
                    "traceback": [
                        "\u001b[1;31m---------------------------------------------------------------------------\u001b[0m",
                        "\u001b[1;31mNameError\u001b[0m                                 Traceback (most recent call last)",
                        "Cell \u001b[1;32mIn[6], line 1\u001b[0m\n\u001b[1;32m----> 1\u001b[0m df\u001b[39m.\u001b[39mto_csv(\u001b[39m'\u001b[39m\u001b[39mOrders.csv\u001b[39m\u001b[39m'\u001b[39m, index\u001b[39m=\u001b[39m\u001b[39mFalse\u001b[39;00m)\n",
                        "\u001b[1;31mNameError\u001b[0m: name 'df' is not defined"
                    ]
                }
            ],
            "execution_count": 6
        },
        {
            "cell_type": "code",
            "source": [
                "df1 = pd.read_csv('Orders.csv')"
            ],
            "metadata": {
                "azdata_cell_guid": "4fb77cc4-c2a3-4197-aa69-228beb0d326b",
                "language": "sql"
            },
            "outputs": [],
            "execution_count": 9
        },
        {
            "cell_type": "code",
            "source": [
                "df1[]"
            ],
            "metadata": {
                "azdata_cell_guid": "5f28ac75-6aed-46e5-b72b-d28bedc655b7",
                "language": "sql"
            },
            "outputs": [
                {
                    "output_type": "execute_result",
                    "execution_count": 12,
                    "data": {
                        "text/plain": "0      10248\n1      10249\n2      10250\n3      10251\n4      10252\n       ...  \n825    11073\n826    11074\n827    11075\n828    11076\n829    11077\nName: OrderID, Length: 830, dtype: int64"
                    },
                    "metadata": {}
                }
            ],
            "execution_count": 12
        }
    ]
}